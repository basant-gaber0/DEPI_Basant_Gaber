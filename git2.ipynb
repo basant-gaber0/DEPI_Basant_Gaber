{
 "cells": [
  {
   "cell_type": "markdown",
   "id": "20d8900e",
   "metadata": {},
   "source": [
    "hiiiiii`(*>﹏<*)′ this is basant !!!"
   ]
  }
 ],
 "metadata": {
  "language_info": {
   "name": "python"
  }
 },
 "nbformat": 4,
 "nbformat_minor": 5
}
