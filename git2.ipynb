{
 "cells": [
  {
   "cell_type": "markdown",
   "id": "0a4f37b7",
   "metadata": {},
   "source": [
    "hiiiii`(*>﹏<*)′"
   ]
  }
 ],
 "metadata": {
  "language_info": {
   "name": "python"
  }
 },
 "nbformat": 4,
 "nbformat_minor": 5
}
