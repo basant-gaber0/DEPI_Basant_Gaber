{
 "cells": [
  {
   "cell_type": "code",
   "execution_count": 1,
   "id": "c15aceec-0747-44ef-a7b6-dfe2b9ad5f82",
   "metadata": {},
   "outputs": [
    {
     "name": "stdout",
     "output_type": "stream",
     "text": [
      "Python 3.11.5\n"
     ]
    }
   ],
   "source": [
    "!python --version"
   ]
  },
  {
   "cell_type": "code",
   "execution_count": 4,
   "id": "fc996ccc-c5c7-4ec2-b82b-033de9d99e0b",
   "metadata": {},
   "outputs": [
    {
     "name": "stdout",
     "output_type": "stream",
     "text": [
      "15\n"
     ]
    }
   ],
   "source": [
    "print(5*3)"
   ]
  },
  {
   "cell_type": "markdown",
   "id": "a9ec93f9-2135-4792-9b3f-a4fea4f6e012",
   "metadata": {},
   "source": [
    "the result of multi is 15"
   ]
  },
  {
   "cell_type": "markdown",
   "id": "a6dd9b06-77ef-4ba7-a3f0-31619a41cb5b",
   "metadata": {},
   "source": [
    "# **Welcome DEPI Round 2**\n",
    "## Online Group\n",
    "**IBM Data Science**\n",
    "\n",
    " By Basant Gaber\n",
    "- Week 1\n",
    "    - Week 2\n",
    "      \n",
    "☆*: .｡. o(≧▽≦)o .｡.:*☆"
   ]
  }
 ],
 "metadata": {
  "kernelspec": {
   "display_name": "Python 3 (ipykernel)",
   "language": "python",
   "name": "python3"
  },
  "language_info": {
   "codemirror_mode": {
    "name": "ipython",
    "version": 3
   },
   "file_extension": ".py",
   "mimetype": "text/x-python",
   "name": "python",
   "nbconvert_exporter": "python",
   "pygments_lexer": "ipython3",
   "version": "3.11.5"
  }
 },
 "nbformat": 4,
 "nbformat_minor": 5
}
